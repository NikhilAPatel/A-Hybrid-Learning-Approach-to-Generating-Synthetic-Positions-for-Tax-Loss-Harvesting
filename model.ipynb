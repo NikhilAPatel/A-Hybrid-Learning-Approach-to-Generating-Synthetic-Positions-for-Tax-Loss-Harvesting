{
 "cells": [
  {
   "cell_type": "markdown",
   "metadata": {
    "pycharm": {
     "name": "#%% md\n"
    }
   },
   "source": [
    "# A Hybrid Learning Approach to Synthetic Position Construction for Tax Loss Harvesting"
   ]
  },
  {
   "cell_type": "markdown",
   "source": [
    "# Generation of Synthetic Positions Using Hybrid Learning"
   ],
   "metadata": {
    "collapsed": false,
    "pycharm": {
     "name": "#%% md\n"
    }
   }
  },
  {
   "cell_type": "code",
   "execution_count": 571,
   "outputs": [],
   "source": [
    "import pickle\n",
    "import pandas as pd\n",
    "from sklearn.preprocessing import StandardScaler\n",
    "from sklearn.linear_model import LinearRegression\n",
    "from sklearn.decomposition import PCA\n",
    "from sklearn.decomposition import SparsePCA\n",
    "import statsmodels.api as sm\n",
    "\n",
    "\n",
    "corr_matrix_file_path = \"pickles/corr_matrix.obj\"\n",
    "x_labels_file_path = \"pickles/X_labels.obj\"\n",
    "sptm_comp_file_path = \"pickles/sptm_composition.obj\"\n",
    "sptm_price_file_path = \"pickles/sptm_price.obj\""
   ],
   "metadata": {
    "collapsed": false,
    "pycharm": {
     "name": "#%%\n"
    }
   }
  },
  {
   "cell_type": "code",
   "execution_count": 626,
   "outputs": [],
   "source": [
    "# Composition data from pickle\n",
    "sptm_comp_file = open(sptm_comp_file_path, 'rb')\n",
    "sptm_composition = pickle.load(sptm_comp_file)\n",
    "sptm_comp_file.close()\n",
    "\n",
    "# Price history downloaded from Yahoo Finance and stored in pickle\n",
    "sptm_price_file = open(sptm_price_file_path, 'rb')\n",
    "sptm_price_history = pickle.load(sptm_price_file)\n",
    "sptm_price_file.close()\n",
    "\n",
    "all_tickers = sptm_composition.keys()\n",
    "\n",
    "# Gets a list of all valid trading dates\n",
    "all_dates = sptm_price_history[list(all_tickers)[0]].axes[0].values\n",
    "dates = pd.DatetimeIndex(data=all_dates)\n",
    "current_date = all_dates[0]\n",
    "\n",
    "# 80/20 Test/Train Split\n",
    "# Data Range: 2015-01-02 - 2020-08-10\n",
    "# Testing Range: 2020-08-11 - 2021-12-31\n",
    "train_start_date = 0\n",
    "train_end_date= 1410\n",
    "test_start_date = 1411\n",
    "test_end_date = 1762"
   ],
   "metadata": {
    "collapsed": false,
    "pycharm": {
     "name": "#%%\n"
    }
   }
  },
  {
   "cell_type": "markdown",
   "source": [
    "### Finding Highly Correlated Stocks\n",
    "#### Use the *do_corr_matrix_regen* variable to tell the code to generate the correlation matrix, else it will load it from a pickle"
   ],
   "metadata": {
    "collapsed": false,
    "pycharm": {
     "name": "#%% md\n"
    }
   }
  },
  {
   "cell_type": "code",
   "execution_count": 642,
   "outputs": [],
   "source": [
    "do_corr_matrix_regen = False"
   ],
   "metadata": {
    "collapsed": false,
    "pycharm": {
     "name": "#%%\n"
    }
   }
  },
  {
   "cell_type": "code",
   "execution_count": 643,
   "outputs": [],
   "source": [
    "num_stocks = len(all_tickers)\n",
    "\n",
    "\n",
    "def regenerate_corr_matrix(end_date, recent_days):\n",
    "    \"\"\"Calculates the correlation between every stock's percent time series\n",
    "    :param end_date: The last date for which data should be used to generate the correlation matrix\n",
    "    :param recent_days: How many days of price history should be used to calculate the correlation matrix\n",
    "    \"\"\"\n",
    "    x_vars = []\n",
    "    x_labels = []\n",
    "\n",
    "    for ticker in all_tickers:\n",
    "        x_vars.append(sptm_price_history[ticker].Close.pct_change().iloc[end_date-recent_days:end_date])\n",
    "        x_labels.append(ticker)\n",
    "\n",
    "    correlation_matrix = [[0 for _ in range(0, num_stocks)] for _ in range(0, num_stocks)]\n",
    "\n",
    "    for l in range(0, num_stocks):\n",
    "        for m in range(0, num_stocks):\n",
    "            correlation_matrix[l][m] = x_vars[l].corr(x_vars[m])\n",
    "    correlation_matrix = pd.DataFrame(correlation_matrix, columns=x_labels[0:num_stocks])\n",
    "\n",
    "    correlation_matrix_file = open(corr_matrix_file_path, 'wb')\n",
    "    pickle.dump(correlation_matrix, correlation_matrix_file)\n",
    "    correlation_matrix_file.close()\n",
    "\n",
    "    x_labels_file = open(x_labels_file_path, 'wb')\n",
    "    pickle.dump(x_labels, x_labels_file)\n",
    "    x_labels_file.close()\n",
    "\n",
    "\n",
    "def load_corr_matrix():\n",
    "    \"\"\"Loads correlation matrix and labels from pickles\n",
    "    :returns: [correlation_matrix, x_labels]\n",
    "    \"\"\"\n",
    "    # Covariance Matrix from pickle\n",
    "    corr_matrix_file = open(corr_matrix_file_path, 'rb')\n",
    "    correlation_matrix = pickle.load(corr_matrix_file)\n",
    "    corr_matrix_file.close()\n",
    "\n",
    "    # X_Labels from pickle\n",
    "    x_labels_file = open(x_labels_file_path, 'rb')\n",
    "    x_labels = pickle.load(x_labels_file)\n",
    "    x_labels_file.close()\n",
    "\n",
    "    return correlation_matrix, x_labels\n",
    "\n",
    "\n",
    "if do_corr_matrix_regen:\n",
    "    regenerate_corr_matrix(train_end_date-500, recent_days=60)\n",
    "\n",
    "corr_matrix, X_labels = load_corr_matrix()"
   ],
   "metadata": {
    "collapsed": false,
    "pycharm": {
     "name": "#%%\n"
    }
   }
  },
  {
   "cell_type": "code",
   "execution_count": 648,
   "outputs": [],
   "source": [
    "def filter_substantially_similar_securities(ticker, series, additional_stocks=None):\n",
    "    \"\"\"Filters out the stocks you cannot buy because of a wash sale\n",
    "    :param series: The series of correlated stocks that should be filtered\n",
    "    :param ticker: Ticker to filter out securities for\n",
    "    :param additional_stocks: Any additional stocks you want to filter out (default = None)\n",
    "    \"\"\"\n",
    "    if additional_stocks is None:\n",
    "        additional_stocks = []\n",
    "\n",
    "    # Handles Google having both GOOG and GOOGL in the dataset\n",
    "    if ticker == \"GOOG\" or ticker:\n",
    "        additional_stocks.append(\"GOOG\")\n",
    "        additional_stocks.append(\"GOOGL\")\n",
    "\n",
    "    additional_stocks.append(ticker)\n",
    "\n",
    "    return series.drop(additional_stocks)\n",
    "\n",
    "\n",
    "def find_top_correlated_stocks(ticker, n):\n",
    "    \"\"\"Finds the top n stocks correlated with a given stock\n",
    "    :param n: the number of correlated stocks to return\n",
    "    :param ticker: The ticker for which correlated stocks should be found\n",
    "    :returns: A list (sorted by most correlation) of correlated stocks\n",
    "    \"\"\"\n",
    "    index = X_labels.index(ticker)\n",
    "\n",
    "    correlated_stocks = corr_matrix.iloc[index].sort_values(ascending=False)\n",
    "    filtered_correlations = filter_substantially_similar_securities(ticker, correlated_stocks)\n",
    "\n",
    "    return filtered_correlations.iloc[:n]"
   ],
   "metadata": {
    "collapsed": false,
    "pycharm": {
     "name": "#%%\n"
    }
   }
  },
  {
   "cell_type": "markdown",
   "source": [
    "### Principle Component Analysis"
   ],
   "metadata": {
    "collapsed": false,
    "pycharm": {
     "name": "#%% md\n"
    }
   }
  },
  {
   "cell_type": "code",
   "execution_count": 651,
   "outputs": [],
   "source": [
    "def get_price_histories_dataframe(stocks, target_stock, end_date, recent_days):\n",
    "    \"\"\"Compiles a DataFrame with the price histories of the specified stocks\n",
    "    :param target_stock: The stock for which the dataset should be created\n",
    "    :param stocks: The stocks to include in the DataFrame\n",
    "    :param end_date: The last date for which data should be used to get the price history\n",
    "    :param recent_days: How many days of price history should be fetched\n",
    "    :returns: (Features DataFrame, Target DataFrame)\"\"\"\n",
    "    d = {}\n",
    "    for correlated_stock in stocks:\n",
    "        d[correlated_stock] = sptm_price_history[correlated_stock].Close.values[end_date-recent_days:end_date]\n",
    "    target = pd.DataFrame({target_stock: sptm_price_history[target_stock].Close.values[end_date-recent_days:end_date]})\n",
    "    return pd.DataFrame(data = d), target\n",
    "\n",
    "def get_datasets(target_stock, n, end_date, recent_days):\n",
    "    \"\"\"Compiles the necessary datasets for PCA. One with the price history of the features, and one with the price history of the target\n",
    "    :param target_stock: The stock for which the dataset should be created\n",
    "    :param n: the number of datasets to get\n",
    "    :param end_date: The last date for which data should be used to get the price history\n",
    "    :param recent_days: How many days of price history should be fetched\n",
    "    :returns: (x, y) where x and y are DataFrames\n",
    "    \"\"\"\n",
    "    corr_stocks = find_top_correlated_stocks(target_stock, n).keys().values\n",
    "    return get_price_histories_dataframe(corr_stocks,target_stock, end_date, recent_days)\n",
    "\n",
    "x,y = get_datasets('AAPL', 10, train_end_date, 60)"
   ],
   "metadata": {
    "collapsed": false,
    "pycharm": {
     "name": "#%%\n"
    }
   }
  },
  {
   "cell_type": "code",
   "execution_count": 573,
   "outputs": [],
   "source": [
    "# Standardize the features\n",
    "X = StandardScaler().fit_transform(x)"
   ],
   "metadata": {
    "collapsed": false,
    "pycharm": {
     "name": "#%%\n"
    }
   }
  },
  {
   "cell_type": "code",
   "execution_count": 580,
   "outputs": [
    {
     "name": "stdout",
     "output_type": "stream",
     "text": [
      "             0         1\n",
      "AAPL  0.018607  0.008323\n",
      "\n",
      "printing all components\n",
      "{'LRCX': [0.32443655157139994, 0.1928006431122659], 'TXN': [0.4096399108172963, 0.0], 'FORM': [0.3695641692300739, 0.07530027071038661], 'RMBS': [0.0, 0.7458539743320353], 'CRUS': [0.2820752455787747, 0.1711237650695028], 'ACLS': [0.25846432169490835, 0.2730462394031352], 'NXPI': [0.15965038167885812, 0.4981985818276537], 'MSFT': [0.40454046193568216, 0.0], 'TRMB': [0.30335769015741765, 0.22007730665401326], 'AVGO': [0.40351087301685185, 0.019651731644320963]}\n",
      "\n",
      "{'LRCX': 0.007641597758057534, 'TXN': 0.007622302879184898, 'FORM': 0.007503333169286232, 'RMBS': 0.006207826603823433, 'CRUS': 0.0066729480811757134, 'ACLS': 0.0070819241805018, 'NXPI': 0.007117229397859462, 'MSFT': 0.0075274157774495405, 'TRMB': 0.0074764032786528295, 'AVGO': 0.007671821457065169}\n"
     ]
    }
   ],
   "source": [
    "number_components = 2\n",
    "pca = SparsePCA(n_components=number_components) # TODO validate this\n",
    "principalComponents = pca.fit_transform(X)\n",
    "principalDf = pd.DataFrame(data = principalComponents, columns=[\"PC \"+ str(i) for i in range (0, number_components)])\n",
    "finalDf = pd.concat([principalDf, y], axis = 1)\n",
    "model = sm.OLS(principalDf, y).fit()\n",
    "print(model.params)\n",
    "\n",
    "loadings = pd.DataFrame(pca.components_.T, index=x.columns)\n",
    "# print(loadings)\n",
    "#print(pca.explained_variance_ratio_)\n",
    "#print(pca.singular_values_)\n",
    "#print(model.pvalues)\n",
    "\n",
    "loadings_dict = {}\n",
    "print()\n",
    "#print(loadings[0].index.values)\n",
    "\n",
    "\n",
    "print(\"printing all components\")\n",
    "# for pc in range(0, number_components):\n",
    "#     for c_stock in loadings[pc].index.values:\n",
    "#         synthetic_position[c_stock]= loadings[pc][c_stock]\n",
    "#     print(synthetic_position)\n",
    "#     print()\n",
    "#     synthetic_position={}\n",
    "\n",
    "loadings_dict={stock: [] for stock in loadings[0].index.values}\n",
    "\n",
    "for c_stock in loadings[0].index.values:\n",
    "    for pc in range(0, number_components):\n",
    "        loadings_dict[c_stock].append(loadings[pc][c_stock])\n",
    "print(loadings_dict)\n",
    "print()\n",
    "\n",
    "synthetic_position = {}\n",
    "for c_stock in loadings_dict.keys():\n",
    "    quantity = 0\n",
    "    for pc in range(0, number_components):\n",
    "        quantity += model.params[pc]['AAPL']*loadings_dict[c_stock][pc]\n",
    "    synthetic_position[c_stock] = quantity\n",
    "\n",
    "\n",
    "print(synthetic_position)\n"
   ],
   "metadata": {
    "collapsed": false,
    "pycharm": {
     "name": "#%%\n"
    }
   }
  },
  {
   "cell_type": "code",
   "execution_count": null,
   "outputs": [],
   "source": [],
   "metadata": {
    "collapsed": false,
    "pycharm": {
     "name": "#%%\n"
    }
   }
  },
  {
   "cell_type": "code",
   "execution_count": null,
   "outputs": [],
   "source": [
    "def hybrid_learning_replace(ticker) -> {}:\n",
    "    \"\"\"Determines which stocks to buy to emulate the performance of another\n",
    "    :param ticker: The stock for which a synthetic position should be calculated\n",
    "    :returns: Dictionary of replacement tickers and their quantities\n",
    "    \"\"\"\n",
    "    print(ticker)\n",
    "    return {}\n",
    "    #TODO"
   ],
   "metadata": {
    "collapsed": false,
    "pycharm": {
     "name": "#%%\n"
    }
   }
  },
  {
   "cell_type": "markdown",
   "source": [
    "# Stock Market Backtester"
   ],
   "metadata": {
    "collapsed": false,
    "pycharm": {
     "name": "#%% md\n"
    }
   }
  },
  {
   "cell_type": "markdown",
   "source": [
    "If you want to run this simulator with different stocks and/or generate a new starting portfolio, do the following:\n",
    "1. Create a CSV file with the format: Ticker, Quantity\n",
    "2. Run **csvToComp.py** to generate text you can paste in as the *snp_composition* variable in **compToPickle.py**\n",
    "3. Run **compToPickle.py**\n",
    "4. Adjust the date range in **yfToPickle.py**\n",
    "5. Run **yfToPickle.py**, which will take a while, since it is downloading all of the price histories from Yahoo Finance"
   ],
   "metadata": {
    "collapsed": false,
    "pycharm": {
     "name": "#%% md\n"
    }
   }
  },
  {
   "cell_type": "code",
   "execution_count": 599,
   "outputs": [],
   "source": [
    "import pandas as pd\n",
    "import pyfolio as pf  #install using  pip3 install git+https://github.com/quantopian/pyfolio\n",
    "from enum import Enum\n",
    "import warnings\n",
    "import pickle\n",
    "import matplotlib.pyplot as plt\n",
    "import matplotlib.dates as mdates\n",
    "import numpy as np\n",
    "import datetime as dt\n",
    "%matplotlib inline\n",
    "\n",
    "snp_comp_file_path = \"pickles/snp_composition.obj\"\n",
    "snp_price_file_path = \"pickles/snp_price.obj\""
   ],
   "metadata": {
    "collapsed": false,
    "pycharm": {
     "name": "#%%\n"
    }
   }
  },
  {
   "cell_type": "code",
   "execution_count": null,
   "outputs": [],
   "source": [
    "# Composition data from pickle\n",
    "snp_comp_file = open(snp_comp_file_path, 'rb')\n",
    "snp_composition = pickle.load(snp_comp_file)\n",
    "snp_comp_file.close()\n",
    "\n",
    "# Price history downloaded from Yahoo Finance and stored in pickle\n",
    "snp_price_file = open(sptm_price_file_path, 'rb')\n",
    "price_history = pickle.load(snp_price_file)\n",
    "snp_price_file.close()\n",
    "\n",
    "all_tickers = snp_composition.keys()\n",
    "\n",
    "# Gets a list of all valid trading dates\n",
    "all_dates = price_history[list(all_tickers)[0]].axes[0].values\n",
    "dates = pd.DatetimeIndex(data=all_dates)\n",
    "current_date = all_dates[0]"
   ],
   "metadata": {
    "collapsed": false,
    "pycharm": {
     "name": "#%%\n"
    }
   }
  },
  {
   "cell_type": "code",
   "execution_count": 671,
   "outputs": [],
   "source": [
    "def get_stock_price(ticker, day, time) -> float:\n",
    "    \"\"\"Retrieves the closing price of a stock on a given date\n",
    "    :param ticker: stock for which to retrieve the value\n",
    "    :param day: date on which to retrieve the value\n",
    "    :param time of day to calculate the value, either Time.OPEN or Time.CLOSE\n",
    "    \"\"\"\n",
    "    if time == Time.OPEN:\n",
    "        return round(price_history[ticker].Open[day], 2)\n",
    "    elif time == Time.CLOSE:\n",
    "        return round(price_history[ticker].Close[day], 2)\n",
    "\n",
    "\n",
    "class Time(Enum):\n",
    "    OPEN = 0\n",
    "    CLOSE = 1\n",
    "\n",
    "\n",
    "class Stock:\n",
    "    def __init__(self, ticker, quantity=0):\n",
    "        \"\"\"Creates an object representing an owned stock\n",
    "        :param ticker: The stock's ticker symbol\n",
    "        :param quantity: How much of this stock is owned (this should only be used when constructing initial stock portfolios, as it essentially creates stock for free)\n",
    "        \"\"\"\n",
    "        self.ticker = ticker\n",
    "        self.quantity = quantity\n",
    "        self.avg_cost = get_stock_price(self.ticker, current_date, Time.CLOSE)\n",
    "\n",
    "    def buy(self, quantity, day_price):\n",
    "        \"\"\"Simulates a portfolio acquiring new stock\n",
    "        :param quantity: The amount of new stock to acquire\n",
    "        :param day_price: The price of the stock on the day of acquisition\n",
    "        \"\"\"\n",
    "        previously_owned = self.quantity\n",
    "        self.quantity += quantity\n",
    "        self.avg_cost += (previously_owned * self.avg_cost + quantity * day_price) / self.quantity\n",
    "\n",
    "    def sell(self, quantity, day_price):\n",
    "        \"\"\"Simulates a portfolio selling a stock\n",
    "        :param quantity: The amount of new stock to sell\n",
    "        :param day_price: The price of the stock on the day of acquisition\n",
    "        \"\"\"\n",
    "        previously_owned = self.quantity\n",
    "        self.quantity -= quantity\n",
    "        self.avg_cost -= (previously_owned * self.avg_cost - quantity * day_price) / self.quantity\n",
    "\n",
    "    def sell_all(self):\n",
    "        \"\"\"Simulates selling all of a stock\n",
    "        \"\"\"\n",
    "        self.quantity = 0\n",
    "        self.avg_cost = 0\n",
    "\n",
    "    def get_pct_change(self):\n",
    "        \"\"\"Gets the percent change of the stock based on the average cost\n",
    "        \"\"\"\n",
    "        change = self.get_change()\n",
    "        return 100 * (change / self.avg_cost)\n",
    "\n",
    "    def get_change(self) -> float:\n",
    "        \"\"\"Gets the difference between the stock's average purchase price and its current price\n",
    "        :returns: float\n",
    "        \"\"\"\n",
    "        current_price = get_stock_price(self.ticker, current_date, Time.CLOSE)\n",
    "        return current_price - self.avg_cost\n",
    "\n",
    "\n",
    "class Portfolio:\n",
    "    def __init__(self, name, starting_cash_balance: float = 1000000, starting_stocks=None):\n",
    "        \"\"\"Creates a new portfolio\n",
    "        :param starting_cash_balance: The amount of cash the portfolio should start with (default 100,000.0)\n",
    "        :param starting_stocks: A dictionary containing the stocks the portfolio should begin with {'Ticker': Stock Object} (default is no starting stocks)\n",
    "        \"\"\"\n",
    "        self.name = name\n",
    "        if starting_stocks is None:\n",
    "            starting_stocks = {}\n",
    "        self.stocks = starting_stocks\n",
    "        self.cash_balance = starting_cash_balance\n",
    "        self.value = 0\n",
    "        self.calculate_value(Time.CLOSE)\n",
    "        self.price_history = {}\n",
    "        self.closing_prices = []\n",
    "        self.returns = None\n",
    "        self.wash_sale_list = {}\n",
    "\n",
    "    def calculate_value(self, time):\n",
    "        \"\"\"Calculates the value of the portfolio based on the close of the global current date\n",
    "        :param time of day to calculate the value, either Time.OPEN or Time.CLOSE\n",
    "        \"\"\"\n",
    "        self.calculate_value_date(current_date, time)\n",
    "\n",
    "    def calculate_value_date(self, day, time):\n",
    "        \"\"\"Calculates the value of the portfolio based on a specified date\n",
    "        :param day: the date on which the portfolio's value should be calculated\n",
    "        :param time of day to calculate the value, either Time.OPEN or Time.CLOSE\n",
    "        \"\"\"\n",
    "        self.value = self.cash_balance\n",
    "        for stock in self.stocks.keys():\n",
    "            self.value += get_stock_price(stock, day, time) * self.stocks[stock].quantity\n",
    "\n",
    "    def update_wash_sale_list(self):\n",
    "        \"\"\"Increments the counter for every item in the wash sale list and removes an item if the counter is >30\n",
    "        \"\"\"\n",
    "        remove_from_list = []\n",
    "        for wash_stock in self.wash_sale_list.keys():\n",
    "            self.wash_sale_list[wash_stock] += 1\n",
    "            if self.wash_sale_list[wash_stock] > 30:\n",
    "                remove_from_list.append(wash_stock)\n",
    "\n",
    "        for to_remove in remove_from_list:\n",
    "            self.wash_sale_list.pop(to_remove)\n",
    "\n",
    "    def begin_day(self):\n",
    "        \"\"\"Calculates the starting value of the day and updates the wash sale list\n",
    "        \"\"\"\n",
    "        self.calculate_value(Time.CLOSE)\n",
    "        self.update_wash_sale_list()\n",
    "\n",
    "    def end_day(self, date_to_record):\n",
    "        \"\"\"\"Calculates the day's closing value and adds it to a list\n",
    "        :param date_to_record: The date associated with the ending day\n",
    "        \"\"\"\n",
    "        self.calculate_value(Time.CLOSE)\n",
    "        self.price_history[date_to_record] = self.value\n",
    "        self.closing_prices.append(self.value)\n",
    "\n",
    "    def end_simulation(self):\n",
    "        \"\"\"Creates a Pandas Series of percent change of closing values and returns it\n",
    "        \"\"\"\n",
    "        self.returns = pd.Series(data=self.closing_prices, index=dates[len(dates)-120:]).pct_change() #TODO delete [len(dates)-60:]\n",
    "        return self.returns\n",
    "\n",
    "    def does_own_stock(self, ticker) -> bool:\n",
    "        \"\"\"Reports whether this portfolio contains a given stock\n",
    "        :param ticker: The stock to search for\n",
    "        \"\"\"\n",
    "        return ticker in self.stocks.keys()\n",
    "\n",
    "    def buy_stock(self, ticker, quantity_to_buy):\n",
    "        \"\"\"Buys stock using cash balance if possible\n",
    "        :param ticker: The stock to purchase\n",
    "        :param quantity_to_buy: The quantity of the stock to purchase (can be a float)\n",
    "        \"\"\"\n",
    "        stock_price = get_stock_price(ticker, current_date, Time.CLOSE)\n",
    "        trade_basis = stock_price * quantity_to_buy  #TODO can add fees here\n",
    "\n",
    "        # Exit if we cannot complete the trade\n",
    "        if trade_basis > self.cash_balance:\n",
    "            warnings.warn(\"Not enough cash to execute trade: buy \" + str(quantity) + \" \" + ticker)\n",
    "            return\n",
    "\n",
    "        if ticker in self.wash_sale_list:\n",
    "            warnings.warn(\"Cannot buy \" + ticker + \": wash sale violation\")\n",
    "            return\n",
    "\n",
    "        # If we do not currently own the stock, create an entry\n",
    "        if ticker not in self.stocks.keys():\n",
    "            self.stocks[ticker] = Stock(ticker)\n",
    "\n",
    "        # Execute the trade\n",
    "        self.stocks[ticker].buy(quantity, stock_price)\n",
    "        self.cash_balance -= trade_basis\n",
    "\n",
    "    def sell_stock(self, ticker, quantity=0, sell_all=False):\n",
    "        \"\"\"Sells stock and adds to cash balance\n",
    "        :param ticker: The stock to sell\n",
    "        :param quantity: The quantity of the stock to sell (can be a float)\n",
    "        :param sell_all: Optional parameter to sell all stock\n",
    "        \"\"\"\n",
    "        stock_price = get_stock_price(ticker, current_date, Time.CLOSE)\n",
    "        # Ensure we have enough stock to sell\n",
    "        quantity_owned = self.stocks[ticker].quantity\n",
    "        if quantity > quantity_owned:\n",
    "            return\n",
    "\n",
    "        if sell_all or quantity == quantity_owned:\n",
    "            self.stocks[ticker].sell_all()\n",
    "            self.cash_balance += quantity_owned * stock_price\n",
    "            self.stocks.pop(ticker)\n",
    "\n",
    "            # Update the wash sale list\n",
    "            self.wash_sale_list[ticker] = 0\n",
    "            return\n",
    "\n",
    "        # Do the trade\n",
    "        self.stocks[ticker].sell()\n",
    "        self.cash_balance += quantity * stock_price  #TODO maybe things should be added to the wash sale list even if we just sell partial (but in theory we are always doing sellall)\n",
    "\n",
    "    def identify_losers(self):\n",
    "        \"\"\"Identifies stocks that have dropped in value more than 5% since they were bought\n",
    "        :returns: List of all stocks that have dropped more than 5%\n",
    "        \"\"\"\n",
    "        identified_losers = []\n",
    "        for owned_stock in self.stocks.keys():\n",
    "            if self.stocks[owned_stock].get_change() <= -1 * (0.05 * self.value):\n",
    "                identified_losers.append(owned_stock)\n",
    "        return identified_losers"
   ],
   "metadata": {
    "collapsed": false,
    "pycharm": {
     "name": "#%%\n"
    }
   }
  },
  {
   "cell_type": "code",
   "execution_count": 672,
   "outputs": [],
   "source": [
    "initial_stocks = {}\n",
    "\n",
    "# for comp_stock in snp_composition:\n",
    "#     initial_stocks[comp_stock] = Stock(comp_stock, snp_composition[comp_stock])\n",
    "\n",
    "\n",
    "\n",
    "# aapl_clone = {'LRCX': 0.3297284300862019, 'TXN': 0.32110963767185785, 'FORM': 0.320409893229997, 'RMBS': 0.293994849165193, 'CRUS': 0.29031934710909757, 'ACLS': 0.31123502432367284, 'NXPI': 0.3204385334187646, 'MSFT': 0.3204587284001481, 'TRMB': 0.32477279820509364, 'AVGO': 0.32721202230179186}\n",
    "\n",
    "aapl_clone ={'LRCX': 0.007641597758057534, 'TXN': 0.007622302879184898, 'FORM': 0.007503333169286232, 'RMBS': 0.006207826603823433, 'CRUS': 0.0066729480811757134, 'ACLS': 0.0070819241805018, 'NXPI': 0.007117229397859462, 'MSFT': 0.0075274157774495405, 'TRMB': 0.0074764032786528295, 'AVGO': 0.007671821457065169}\n",
    "\n",
    "for a_stock in aapl_clone.keys():\n",
    "    initial_stocks[a_stock] = Stock(a_stock, aapl_clone[a_stock])\n",
    "\n",
    "\n",
    "# TODO remove the absolute value thing from correlated stocks ranking\n",
    "#initial_stocks['AAPL'] = Stock('AAPL', 1)\n",
    "#initial_stocks['LRCX'] = Stock('LRCX', 1)"
   ],
   "metadata": {
    "collapsed": false,
    "pycharm": {
     "name": "#%%\n"
    }
   }
  },
  {
   "cell_type": "code",
   "execution_count": 692,
   "outputs": [
    {
     "name": "stdout",
     "output_type": "stream",
     "text": [
      "2015-01-02T00:00:00.000000000\n"
     ]
    },
    {
     "data": {
      "text/plain": "<Figure size 432x288 with 1 Axes>",
      "image/png": "[encoded data removed]"
     },
     "metadata": {
      "needs_background": "light"
     },
     "output_type": "display_data"
    }
   ],
   "source": [
    "# The hybrid learning portfolio\n",
    "h_l_portfolio = Portfolio(\"Synth\", 0, initial_stocks)\n",
    "aapl_portfolio = Portfolio(\"Apple\", 0, {'AAPL': Stock('AAPL', 1)})\n",
    "lrcx_port = Portfolio(\"LRCX\", 0, {'LRCX': Stock('LRCX', 1)})\n",
    "\n",
    "ratio = h_l_portfolio.value/aapl_portfolio.value\n",
    "\n",
    "ratio2 = h_l_portfolio.value/lrcx_port.value\n",
    "\n",
    "real_aapl_port =  Portfolio(\"Apple\", 0, {'AAPL': Stock('AAPL', ratio)})\n",
    "real_lrcx_port = Portfolio(\"LRCX\", 0, {'LRCX': Stock('LRCX', ratio2)})\n",
    "\n",
    "\n",
    "portfolios = [real_aapl_port, h_l_portfolio, real_lrcx_port]\n",
    "\n",
    "print(all_dates[0])\n",
    "\n",
    "for date in range(len(all_dates)-520, len(all_dates)-400):\n",
    "    # update the current day\n",
    "    current_date = date\n",
    "\n",
    "    # Allow the portfolio to perform start of day updates\n",
    "    for sim_portfolio in portfolios:\n",
    "        sim_portfolio.begin_day()\n",
    "\n",
    "        # Determine which stocks should be tax loss harvested\n",
    "        losers = sim_portfolio.identify_losers()\n",
    "\n",
    "        # for losing_stock in losers:\n",
    "        #     # Get dictionary of replacement stocks {'Ticker': Quantity}\n",
    "        #     replacement_stocks = hybrid_learning_replace(losing_stock)\n",
    "        #\n",
    "        #     # Sell the losing stock\n",
    "        #     portfolio.sell_stock(losing_stock, sell_all=True)\n",
    "        #\n",
    "        #     # Buy the replacement stocks\n",
    "        #     for buy_stock in replacement_stocks.keys():\n",
    "        #         portfolio.buy_stock(buy_stock, replacement_stocks[buy_stock])\n",
    "\n",
    "        # Allow the portfolio to perform end-of-day updates\n",
    "        sim_portfolio.end_day(all_dates[date])\n",
    "\n",
    "returns = []\n",
    "\n",
    "# Inform the portfolio that the simulation has ended\n",
    "for portfolio in portfolios:\n",
    "    returns.append(portfolio.end_simulation())\n",
    "\n",
    "\n",
    "def plot_portfolio(p):\n",
    "    plt.gca().xaxis.set_major_formatter(mdates.DateFormatter('%Y-%m-%d'))\n",
    "    plt.gca().xaxis.set_major_locator(mdates.DayLocator(interval=30))\n",
    "\n",
    "    for port in p:\n",
    "        days = []\n",
    "        y_price = []\n",
    "        for price in port.price_history:\n",
    "            days.append(price)\n",
    "            y_price.append(port.price_history[price])\n",
    "        plt.plot(days,y_price, label = port.name)\n",
    "\n",
    "    plt.gcf().autofmt_xdate()\n",
    "    plt.legend(loc='best')\n",
    "    plt.show()\n",
    "\n",
    "plot_portfolio(portfolios)"
   ],
   "metadata": {
    "collapsed": false,
    "pycharm": {
     "name": "#%%\n"
    }
   }
  },
  {
   "cell_type": "code",
   "execution_count": 583,
   "outputs": [
    {
     "name": "stdout",
     "output_type": "stream",
     "text": [
      "First Correlated Stock Returns\n",
      "0.49849271970613757\n",
      "\n",
      "Synthetic Returns\n",
      "0.6463240781237561\n"
     ]
    }
   ],
   "source": [
    "AAPLRets = sptm_price_history['AAPL'].iloc[len(sptm_price_history['AAPL'].Close)-120:].Close.pct_change()\n",
    "LRCXRets= sptm_price_history['LRCX'].iloc[len(sptm_price_history['LRCX'].Close)-120:].Close.pct_change()\n",
    "\n",
    "print(\"First Correlated Stock Returns\")\n",
    "print(LRCXRets.corr(AAPLRets))\n",
    "\n",
    "print(\"\\nSynthetic Returns\")\n",
    "print(returns.corr(AAPLRets))\n",
    "\n",
    "# TODO make it so the model only trains on dates during the test era, so I can evaluate performance during a real unseen period"
   ],
   "metadata": {
    "collapsed": false,
    "pycharm": {
     "name": "#%%\n"
    }
   }
  },
  {
   "cell_type": "code",
   "execution_count": 660,
   "outputs": [],
   "source": [
    "#pf.create_returns_tear_sheet(returns)"
   ],
   "metadata": {
    "collapsed": false,
    "pycharm": {
     "name": "#%%\n"
    }
   }
  },
  {
   "cell_type": "code",
   "execution_count": 291,
   "outputs": [],
   "source": [],
   "metadata": {
    "collapsed": false,
    "pycharm": {
     "name": "#%%\n"
    }
   }
  },
  {
   "cell_type": "code",
   "execution_count": null,
   "outputs": [],
   "source": [],
   "metadata": {
    "collapsed": false,
    "pycharm": {
     "name": "#%%\n"
    }
   }
  }
 ],
 "metadata": {
  "kernelspec": {
   "display_name": "Python 3 (ipykernel)",
   "language": "python",
   "name": "python3"
  },
  "language_info": {
   "codemirror_mode": {
    "name": "ipython",
    "version": 3
   },
   "file_extension": ".py",
   "mimetype": "text/x-python",
   "name": "python",
   "nbconvert_exporter": "python",
   "pygments_lexer": "ipython3",
   "version": "3.9.12"
  }
 },
 "nbformat": 4,
 "nbformat_minor": 1
}