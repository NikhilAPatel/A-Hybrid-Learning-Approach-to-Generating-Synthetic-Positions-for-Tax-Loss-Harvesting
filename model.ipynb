{
 "cells": [
  {
   "cell_type": "markdown",
   "metadata": {
    "pycharm": {
     "name": "#%% md\n"
    }
   },
   "source": [
    "# A Hybrid Learning Approach to Generating Synthetic Positions for Tax Loss Harvesting"
   ]
  },
  {
   "cell_type": "markdown",
   "metadata": {
    "pycharm": {
     "name": "#%% md\n"
    }
   },
   "source": [
    "# Stock Market Backtester"
   ]
  },
  {
   "cell_type": "code",
   "execution_count": 24,
   "metadata": {
    "pycharm": {
     "name": "#%%\n"
    }
   },
   "outputs": [],
   "source": [
    "import pandas as pd\n",
    "import yfinance as yf\n",
    "import pyfolio as pf #install using  pip3 install git+https://github.com/quantopian/pyfolio\n",
    "from enum import Enum\n",
    "%matplotlib inline"
   ]
  },
  {
   "cell_type": "code",
   "execution_count": 25,
   "metadata": {
    "pycharm": {
     "name": "#%%\n"
    }
   },
   "outputs": [],
   "source": [
    "start_date = \"2012-01-09\" #TODO choose real start date\n",
    "end_date = \"2013-01-10\" #TODO choose real end date\n",
    "all_tickers = ['SPY', 'AAPL'] #TODO make list of real tickers\n",
    "\n",
    "# Price history downloaded from Yahoo Finance\n",
    "price_history = {}\n",
    "for symbol in all_tickers:\n",
    "    price_history[symbol] = yf.Ticker(symbol).history(start = start_date, end = end_date)\n",
    "\n",
    "# Gets a list of all valid trading dates\n",
    "all_dates = price_history[all_tickers[0]].axes[0].values\n",
    "dates = pd.DatetimeIndex(data = all_dates)\n",
    "current_date = all_dates[0]"
   ]
  },
  {
   "cell_type": "code",
   "execution_count": 26,
   "metadata": {
    "pycharm": {
     "name": "#%%\n"
    }
   },
   "outputs": [],
   "source": [
    "def get_stock_value(ticker, day, time) -> float:\n",
    "    \"\"\"Retrieves the closing price of a stock on a given date\n",
    "    :param ticker: stock for which to retrieve the value\n",
    "    :param day: date on which to retrieve the value\n",
    "    :param time of day to calculate the value, either Time.OPEN or Time.CLOSE\n",
    "    \"\"\"\n",
    "    if time==Time.OPEN:\n",
    "        return price_history[ticker].Open[day]\n",
    "    elif time==Time.CLOSE:\n",
    "        return price_history[ticker].Close[day]\n",
    "\n",
    "class Time(Enum):\n",
    "    OPEN = 0\n",
    "    CLOSE = 1\n",
    "\n",
    "class Portfolio:\n",
    "    def __init__(self, starting_cash_balance: float = 1000000, starting_stocks=None):\n",
    "        \"\"\"Creates a new portfolio\n",
    "        :param starting_cash_balance: The amount of cash the portfolio should start with (default 100,000.0)\n",
    "        :param starting_stocks: A dictionary containing the stocks the portfolio should begin with {'Ticker': Float Quantity} (default no starting stocks)\"\"\"\n",
    "        if starting_stocks is None:\n",
    "            starting_stocks = {}\n",
    "        self.stocks = starting_stocks\n",
    "        self.cash_balance = starting_cash_balance\n",
    "        self.value = 0\n",
    "        self.calculate_value(Time.OPEN)\n",
    "        self.closing_prices = []\n",
    "        self.returns = None\n",
    "\n",
    "    def calculate_value(self, time):\n",
    "        \"\"\"Calculates the value of the portfolio based on the close of the global current date\n",
    "        :param time of day to calculate the value, either Time.OPEN or Time.CLOSE\n",
    "        \"\"\"\n",
    "        self.calculate_value_date(current_date, time)\n",
    "\n",
    "    def calculate_value_date(self, day, time):\n",
    "        \"\"\"Calculates the value of the portfolio based on a specified date\n",
    "        :param day: the date on which the portfolio's value should be calculated\n",
    "        :param time of day to calculate the value, either Time.OPEN or Time.CLOSE\n",
    "        \"\"\"\n",
    "        self.value = self.cash_balance\n",
    "        for stock in self.stocks.keys():\n",
    "            self.value += get_stock_value(stock, day, time) * self.stocks[stock]\n",
    "\n",
    "    def end_day(self):\n",
    "        \"\"\"\"Calculates the day's closing value and adds it to a list\n",
    "        \"\"\"\n",
    "        self.calculate_value(Time.CLOSE)\n",
    "        self.closing_prices.append(self.value)\n",
    "\n",
    "    def end_simulation(self):\n",
    "        \"\"\"Creates a Pandas Series of percent change of closing values and returns it\"\"\"\n",
    "        self.returns = pd.Series(data = self.closing_prices, index = dates).pct_change()\n",
    "        return self.returns\n",
    "\n",
    "\n"
   ]
  },
  {
   "cell_type": "code",
   "execution_count": 27,
   "metadata": {
    "pycharm": {
     "name": "#%%\n"
    }
   },
   "outputs": [
    {
     "name": "stdout",
     "output_type": "stream",
     "text": [
      "2012-01-09         NaN\n",
      "2012-01-10    0.008670\n",
      "2012-01-11    0.000542\n",
      "2012-01-12    0.002399\n",
      "2012-01-13   -0.005174\n",
      "                ...   \n",
      "2013-01-03   -0.002259\n",
      "2013-01-04    0.004392\n",
      "2013-01-07   -0.002733\n",
      "2013-01-08   -0.002877\n",
      "2013-01-09    0.002542\n",
      "Length: 252, dtype: float64\n"
     ]
    }
   ],
   "source": [
    "portfolio = Portfolio(0, {'SPY': 1})\n",
    "for date in all_dates:\n",
    "    # update the current day\n",
    "    current_date = date\n",
    "\n",
    "    # calculate portfolio value on the opening of this day\n",
    "    portfolio.calculate_value(Time.OPEN)\n",
    "\n",
    "\n",
    "\n",
    "    # ALlow the portfolio to perform end-of-day updates\n",
    "    portfolio.end_day()\n",
    "\n",
    "# Inform the portfolio that the simulation has ended\n",
    "returns = portfolio.end_simulation()\n",
    "print(returns)"
   ]
  },
  {
   "cell_type": "code",
   "execution_count": 28,
   "metadata": {
    "pycharm": {
     "name": "#%%\n"
    }
   },
   "outputs": [],
   "source": [
    "#pf.create_returns_tear_sheet(returns)"
   ]
  },
  {
   "cell_type": "code",
   "execution_count": 28,
   "metadata": {},
   "outputs": [],
   "source": []
  }
 ],
 "metadata": {
  "kernelspec": {
   "display_name": "Python 3 (ipykernel)",
   "language": "python",
   "name": "python3"
  },
  "language_info": {
   "codemirror_mode": {
    "name": "ipython",
    "version": 3
   },
   "file_extension": ".py",
   "mimetype": "text/x-python",
   "name": "python",
   "nbconvert_exporter": "python",
   "pygments_lexer": "ipython3",
   "version": "3.10.2"
  }
 },
 "nbformat": 4,
 "nbformat_minor": 1
}