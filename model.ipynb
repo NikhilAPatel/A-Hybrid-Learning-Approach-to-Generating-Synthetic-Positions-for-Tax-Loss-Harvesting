{
 "cells": [
  {
   "cell_type": "markdown",
   "metadata": {
    "pycharm": {
     "name": "#%% md\n"
    }
   },
   "source": [
    "# A Hybrid Learning Approach to Generating Synthetic Positions for Tax Loss Harvesting"
   ]
  },
  {
   "cell_type": "markdown",
   "source": [
    "## Generation of Synthetic Positions Using Hybrid Learning"
   ],
   "metadata": {
    "collapsed": false,
    "pycharm": {
     "name": "#%% md\n"
    }
   }
  },
  {
   "cell_type": "code",
   "execution_count": null,
   "outputs": [],
   "source": [
    "def hybrid_learning_replace(ticker) -> {}:\n",
    "    \"\"\"Determines which stocks to buy to emulate the performance of another\n",
    "    :param ticker: The stock for which a synthetic position should be calculated\n",
    "    :returns replacement_stocks: Dictionary of replacements stock tickers and their quantities\n",
    "    \"\"\"\n",
    "    #TODO"
   ],
   "metadata": {
    "collapsed": false,
    "pycharm": {
     "name": "#%%\n"
    }
   }
  },
  {
   "cell_type": "markdown",
   "metadata": {
    "pycharm": {
     "name": "#%% md\n"
    }
   },
   "source": [
    "# Stock Market Backtester"
   ]
  },
  {
   "cell_type": "code",
   "execution_count": 1,
   "metadata": {
    "pycharm": {
     "name": "#%%\n"
    }
   },
   "outputs": [],
   "source": [
    "import pandas as pd\n",
    "import yfinance as yf\n",
    "import pyfolio as pf #install using  pip3 install git+https://github.com/quantopian/pyfolio\n",
    "from enum import Enum\n",
    "import warnings\n",
    "%matplotlib inline"
   ]
  },
  {
   "cell_type": "code",
   "execution_count": null,
   "outputs": [],
   "source": [
    "start_date = \"2012-09-16\" #TODO choose real start date\n",
    "end_date = \"2013-01-10\" #TODO choose real end date\n",
    "all_tickers = ['SPY', 'AAPL'] #TODO make list of real tickers\n",
    "\n",
    "# Price history downloaded from Yahoo Finance\n",
    "price_history = {}\n",
    "for symbol in all_tickers:\n",
    "    price_history[symbol] = yf.Ticker(symbol).history(start = start_date, end = end_date)\n",
    "\n",
    "# Gets a list of all valid trading dates\n",
    "all_dates = price_history[all_tickers[0]].axes[0].values\n",
    "dates = pd.DatetimeIndex(data = all_dates)\n",
    "current_date = all_dates[0]"
   ],
   "metadata": {
    "collapsed": false,
    "pycharm": {
     "name": "#%%\n"
    }
   }
  },
  {
   "cell_type": "code",
   "execution_count": null,
   "outputs": [],
   "source": [
    "def get_stock_price(ticker, day, time) -> float:\n",
    "    \"\"\"Retrieves the closing price of a stock on a given date\n",
    "    :param ticker: stock for which to retrieve the value\n",
    "    :param day: date on which to retrieve the value\n",
    "    :param time of day to calculate the value, either Time.OPEN or Time.CLOSE\n",
    "    \"\"\"\n",
    "    if time==Time.OPEN:\n",
    "        return round(price_history[ticker].Open[day], 2)\n",
    "    elif time==Time.CLOSE:\n",
    "        return round(price_history[ticker].Close[day], 2)\n",
    "\n",
    "class Time(Enum):\n",
    "    OPEN = 0\n",
    "    CLOSE = 1\n",
    "\n",
    "class Stock:\n",
    "    def __init__(self, ticker, quantity=0):\n",
    "        \"\"\"Creates an object representing an owned stock\n",
    "        :param ticker: The stock's ticker symbol\n",
    "        :param quantity: How much of this stock is owned (this should only be used when constructing initial stock portfolios, as it essentially creates stock for free)\n",
    "        \"\"\"\n",
    "        self.ticker = ticker\n",
    "        self.quantity = quantity\n",
    "        self.avg_cost = get_stock_price(self.ticker, current_date, Time.CLOSE)\n",
    "\n",
    "    def buy(self, quantity, day_price):\n",
    "        \"\"\"Simulates a portfolio acquiring new stock\n",
    "        :param quantity: The amount of new stock to acquire\n",
    "        :param day_price: The price of the stock on the day of acquisition\n",
    "        \"\"\"\n",
    "        previously_owned = self.quantity\n",
    "        self.quantity += quantity\n",
    "        self.avg_cost += (previously_owned*self.avg_cost + quantity*day_price)/self.quantity\n",
    "\n",
    "    def sell(self, quantity, day_price):\n",
    "        \"\"\"Simulates a portfolio selling a stock\n",
    "        :param quantity: The amount of new stock to sell\n",
    "        :param day_price: The price of the stock on the day of acquisition\n",
    "        \"\"\"\n",
    "        previously_owned = self.quantity\n",
    "        self.quantity -= quantity\n",
    "        self.avg_cost -= (previously_owned*self.avg_cost - quantity*day_price)/self.quantity\n",
    "\n",
    "    def sell_all(self):\n",
    "        \"\"\"Simulates selling all of a stock\n",
    "        \"\"\"\n",
    "        self.quantity = 0\n",
    "        self.avg_cost = 0\n",
    "        \n",
    "    def get_pct_change(self):\n",
    "        \"\"\"Gets the percent change of the stock based on the average cost\n",
    "        \"\"\"\n",
    "        current_price = get_stock_price(self.ticker, current_date, Time.CLOSE)\n",
    "        change = current_price - self.avg_cost\n",
    "        return 100*(change/self.avg_cost)\n",
    "        \n",
    "\n",
    "class Portfolio:\n",
    "    def __init__(self, starting_cash_balance: float = 1000000, starting_stocks=None):\n",
    "        \"\"\"Creates a new portfolio\n",
    "        :param starting_cash_balance: The amount of cash the portfolio should start with (default 100,000.0)\n",
    "        :param starting_stocks: A dictionary containing the stocks the portfolio should begin with {'Ticker': Stock Object} (default is no starting stocks)\n",
    "        \"\"\"\n",
    "        if starting_stocks is None:\n",
    "            starting_stocks = {}\n",
    "        self.stocks = starting_stocks\n",
    "        self.cash_balance = starting_cash_balance\n",
    "        self.value = 0\n",
    "        self.calculate_value(Time.CLOSE)\n",
    "        self.closing_prices = []\n",
    "        self.returns = None\n",
    "        self.wash_sale_list = {}\n",
    "\n",
    "    def calculate_value(self, time):\n",
    "        \"\"\"Calculates the value of the portfolio based on the close of the global current date\n",
    "        :param time of day to calculate the value, either Time.OPEN or Time.CLOSE\n",
    "        \"\"\"\n",
    "        self.calculate_value_date(current_date, time)\n",
    "\n",
    "    def calculate_value_date(self, day, time):\n",
    "        \"\"\"Calculates the value of the portfolio based on a specified date\n",
    "        :param day: the date on which the portfolio's value should be calculated\n",
    "        :param time of day to calculate the value, either Time.OPEN or Time.CLOSE\n",
    "        \"\"\"\n",
    "        self.value = self.cash_balance\n",
    "        for stock in self.stocks.keys():\n",
    "            self.value += get_stock_price(stock, day, time) * self.stocks[stock].quantity\n",
    "\n",
    "    def update_wash_sale_list(self):\n",
    "        \"\"\"Increments the counter for every item in the wash sale list and removes an item if the counter is >30\n",
    "        \"\"\"\n",
    "        remove_from_list = []\n",
    "        for wash_stock in self.wash_sale_list.keys():\n",
    "            self.wash_sale_list[wash_stock] += 1\n",
    "            if self.wash_sale_list[wash_stock] > 30:\n",
    "                remove_from_list.append(wash_stock)\n",
    "\n",
    "        for to_remove in remove_from_list:\n",
    "            self.wash_sale_list.pop(to_remove)\n",
    "\n",
    "    def begin_day(self):\n",
    "        \"\"\"Calculates the starting value of the day and updates the wash sale list\"\"\"\n",
    "        self.calculate_value(Time.CLOSE)\n",
    "        self.update_wash_sale_list()\n",
    "\n",
    "    def end_day(self):\n",
    "        \"\"\"\"Calculates the day's closing value and adds it to a list\n",
    "        \"\"\"\n",
    "        self.calculate_value(Time.CLOSE)\n",
    "        self.closing_prices.append(self.value)\n",
    "\n",
    "    def end_simulation(self):\n",
    "        \"\"\"Creates a Pandas Series of percent change of closing values and returns it\n",
    "        \"\"\"\n",
    "        self.returns = pd.Series(data = self.closing_prices, index = dates).pct_change()\n",
    "        return self.returns\n",
    "\n",
    "    def does_own_stock(self, ticker) -> bool:\n",
    "        \"\"\"Reports whether or not this portfolio contains a given stock\n",
    "        :param ticker: The stock to search for\n",
    "        \"\"\"\n",
    "        return ticker in self.stocks.keys()\n",
    "\n",
    "    def buy_stock(self, ticker, quantity):\n",
    "        \"\"\"Buys stock using cash balance if possible\n",
    "        :param ticker: The stock to purchase\n",
    "        :param quantity: The quantity of the stock to purchase (can be a float)\n",
    "        \"\"\"\n",
    "        stock_price = get_stock_price(ticker, current_date, Time.CLOSE)\n",
    "        trade_basis = stock_price*quantity #TODO can add fees here\n",
    "\n",
    "        # Exit if we cannot complete the trade\n",
    "        if trade_basis>self.cash_balance:\n",
    "            warnings.warn(\"Not enough cash to execute trade: buy \"+str(quantity)+ \" \" + ticker)\n",
    "            return\n",
    "        \n",
    "        if ticker in self.wash_sale_list:\n",
    "            warnings.warn(\"Cannot buy \"+ticker+\": wash sale violation\")\n",
    "            return\n",
    "\n",
    "        # If we do not currently own the stock, create an entry\n",
    "        if ticker not in self.stocks.keys():\n",
    "            self.stocks[ticker] = Stock(ticker)\n",
    "\n",
    "        # Execute the trade\n",
    "        self.stocks[ticker].buy(quantity, stock_price)\n",
    "        self.cash_balance -= trade_basis\n",
    "\n",
    "    def sell_stock(self, ticker, quantity = 0, sell_all = False):\n",
    "        \"\"\"Sells stock and adds to cash balance\n",
    "        :param ticker: The stock to sell\n",
    "        :param quantity: The quantity of the stock to sell (can be a float)\n",
    "        :param sell_all: Optional parameter to sell all stock\n",
    "        \"\"\"\n",
    "        stock_price = get_stock_price(ticker, current_date, Time.CLOSE)\n",
    "        # Ensure we have enough stock to sell\n",
    "        quantity_owned = self.stocks[ticker].quantity\n",
    "        if quantity > quantity_owned:\n",
    "            return\n",
    "\n",
    "\n",
    "        if sell_all or quantity==quantity_owned:\n",
    "            self.stocks[ticker].sell_all()\n",
    "            self.cash_balance += quantity_owned*stock_price\n",
    "            self.stocks.pop(ticker)\n",
    "\n",
    "            # Update the wash sale list\n",
    "            self.wash_sale_list[ticker] = 0\n",
    "            return\n",
    "\n",
    "        # Do the trade\n",
    "        self.stocks[ticker].sell()\n",
    "        self.cash_balance += quantity*stock_price #TODO maybe things should be added to the wash sale list even if we just sell partial (but in theory we are always doing sellall)\n",
    "    \n",
    "    def identify_losers(self):\n",
    "        \"\"\"Identifies stocks that have dropped in value more than 5% since they were bought\n",
    "        :returns identified_losers: List of all stocks that have dropped more than 5%\n",
    "        \"\"\"\n",
    "        identified_losers = []\n",
    "        for owned_stock in self.stocks.keys():\n",
    "            if self.stocks[owned_stock].get_pct_change()<=-5:\n",
    "                identified_losers.append(owned_stock)\n",
    "        return identified_losers\n"
   ],
   "metadata": {
    "collapsed": false,
    "pycharm": {
     "name": "#%%\n"
    }
   }
  },
  {
   "cell_type": "code",
   "execution_count": null,
   "outputs": [],
   "source": [
    "# The hybrid learning portfolio\n",
    "h_l_portfolio = Portfolio(0, {'AAPL': Stock('AAPL', 1)}) #TODO define large array of starting stocks that every portfolio should start with\n",
    "\n",
    "for date in all_dates:\n",
    "    # update the current day\n",
    "    current_date = date\n",
    "\n",
    "    # Allow the portfolio to perform start of day updates\n",
    "    h_l_portfolio.begin_day()\n",
    "\n",
    "    # Determine which stocks should be tax loss harvested\n",
    "    losers = h_l_portfolio.identify_losers()\n",
    "    \n",
    "    for losing_stock in losers:\n",
    "        # Get dictionary of replacement stocks {'Ticker': Quantity}\n",
    "        replacement_stocks = hybrid_learning_replace(losing_stock)\n",
    "\n",
    "        # Sell the losing stock\n",
    "        h_l_portfolio.sell_stock(losing_stock, sell_all=True)\n",
    "\n",
    "        # Buy the replacement stocks\n",
    "        for buy_stock in replacement_stocks.keys():\n",
    "            h_l_portfolio.buy_stock(buy_stock, replacement_stocks[buy_stock])\n",
    "\n",
    "    # Allow the portfolio to perform end-of-day updates\n",
    "    h_l_portfolio.end_day()\n",
    "\n",
    "# Inform the portfolio that the simulation has ended\n",
    "returns = h_l_portfolio.end_simulation()\n",
    "print(returns)\n",
    "print(h_l_portfolio.value)\n"
   ],
   "metadata": {
    "collapsed": false,
    "pycharm": {
     "name": "#%%\n"
    }
   }
  },
  {
   "cell_type": "code",
   "execution_count": null,
   "metadata": {
    "pycharm": {
     "name": "#%%\n",
     "is_executing": true
    },
    "scrolled": false
   },
   "outputs": [],
   "source": [
    "#pf.create_returns_tear_sheet(returns)"
   ]
  }
 ],
 "metadata": {
  "kernelspec": {
   "display_name": "Python 3 (ipykernel)",
   "language": "python",
   "name": "python3"
  },
  "language_info": {
   "codemirror_mode": {
    "name": "ipython",
    "version": 3
   },
   "file_extension": ".py",
   "mimetype": "text/x-python",
   "name": "python",
   "nbconvert_exporter": "python",
   "pygments_lexer": "ipython3",
   "version": "3.9.12"
  }
 },
 "nbformat": 4,
 "nbformat_minor": 1
}