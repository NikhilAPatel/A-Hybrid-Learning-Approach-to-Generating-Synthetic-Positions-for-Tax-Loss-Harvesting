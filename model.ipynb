{
 "cells": [
  {
   "cell_type": "markdown",
   "metadata": {
    "pycharm": {
     "name": "#%% md\n"
    }
   },
   "source": [
    "# A Hybrid Learning Approach to Synthetic Position Construction for Tax Loss Harvesting"
   ]
  },
  {
   "cell_type": "markdown",
   "source": [
    "# Generation of Synthetic Positions Using Hybrid Learning"
   ],
   "metadata": {
    "collapsed": false,
    "pycharm": {
     "name": "#%% md\n"
    }
   }
  },
  {
   "cell_type": "code",
   "execution_count": 74,
   "outputs": [],
   "source": [
    "import pickle\n",
    "import pandas as pd\n",
    "from sklearn.preprocessing import StandardScaler\n",
    "from sklearn.decomposition import PCA\n",
    "from sklearn.decomposition import SparsePCA\n",
    "import statsmodels.api as sm\n",
    "import operator\n",
    "from deprecated import deprecated\n",
    "\n",
    "corr_matrix_file_path = \"pickles/corr_matrix.obj\"\n",
    "x_labels_file_path = \"pickles/X_labels.obj\"\n",
    "sptm_comp_file_path = \"pickles/sptm_composition.obj\"\n",
    "sptm_price_file_path = \"pickles/sptm_price.obj\""
   ],
   "metadata": {
    "collapsed": false,
    "pycharm": {
     "name": "#%%\n"
    }
   }
  },
  {
   "cell_type": "code",
   "execution_count": 75,
   "outputs": [],
   "source": [
    "# Composition data from pickle\n",
    "sptm_comp_file = open(sptm_comp_file_path, 'rb')\n",
    "sptm_composition = pickle.load(sptm_comp_file)\n",
    "sptm_comp_file.close()\n",
    "\n",
    "# Price history downloaded from Yahoo Finance and stored in pickle\n",
    "sptm_price_file = open(sptm_price_file_path, 'rb')\n",
    "sptm_price_history = pickle.load(sptm_price_file)\n",
    "sptm_price_file.close()\n",
    "\n",
    "all_tickers = sptm_composition.keys()\n",
    "\n",
    "# Gets a list of all valid trading dates\n",
    "all_dates = sptm_price_history[list(all_tickers)[0]].axes[0].values\n",
    "dates = pd.DatetimeIndex(data=all_dates)\n",
    "current_date = all_dates[0]\n",
    "\n",
    "# 80/20 Test/Train Split\n",
    "# Data Range: 2015-01-02 - 2020-08-10\n",
    "# Testing Range: 2020-08-11 - 2021-12-31\n",
    "train_start_date = 0\n",
    "train_end_date = 1410\n",
    "test_start_date = 1411\n",
    "test_end_date = 1762"
   ],
   "metadata": {
    "collapsed": false,
    "pycharm": {
     "name": "#%%\n"
    }
   }
  },
  {
   "cell_type": "markdown",
   "source": [
    "### Finding Highly Correlated Stocks\n",
    "#### Use the *do_corr_matrix_regen* variable to tell the code to generate the correlation matrix, else it will load it from a pickle"
   ],
   "metadata": {
    "collapsed": false,
    "pycharm": {
     "name": "#%% md\n"
    }
   }
  },
  {
   "cell_type": "code",
   "execution_count": 76,
   "outputs": [],
   "source": [
    "num_stocks = len(all_tickers)\n",
    "\n",
    "\n",
    "@deprecated(reason=\"Switched to generating singular correlation lists on the fly\")\n",
    "def regenerate_corr_matrix(end_date, recent_days):\n",
    "    \"\"\"Calculates the correlation between every stock's percent time series\n",
    "    :param end_date: The last date for which data should be used to generate the correlation matrix\n",
    "    :param recent_days: How many days of price history should be used to calculate the correlation matrix\n",
    "    \"\"\"\n",
    "    x_vars = []\n",
    "    x_labels = []\n",
    "\n",
    "    for ticker in all_tickers:\n",
    "        x_vars.append(sptm_price_history[ticker].Close.pct_change().iloc[end_date - recent_days:end_date])\n",
    "        x_labels.append(ticker)\n",
    "\n",
    "    correlation_matrix = [[0 for _ in range(0, num_stocks)] for _ in range(0, num_stocks)]\n",
    "\n",
    "    for l in range(0, num_stocks):\n",
    "        for m in range(0, num_stocks):\n",
    "            correlation_matrix[l][m] = x_vars[l].corr(x_vars[m])\n",
    "    correlation_matrix = pd.DataFrame(correlation_matrix, columns=x_labels[0:num_stocks])\n",
    "\n",
    "    correlation_matrix_file = open(corr_matrix_file_path, 'wb')\n",
    "    pickle.dump(correlation_matrix, correlation_matrix_file)\n",
    "    correlation_matrix_file.close()\n",
    "\n",
    "    x_labels_file = open(x_labels_file_path, 'wb')\n",
    "    pickle.dump(x_labels, x_labels_file)\n",
    "    x_labels_file.close()\n",
    "\n",
    "\n",
    "@deprecated(reason=\"Switched to generating singular correlation lists on the fly\")\n",
    "def load_corr_matrix():\n",
    "    \"\"\"Loads correlation matrix and labels from pickles\n",
    "    :returns: [correlation_matrix, x_labels]\n",
    "    \"\"\"\n",
    "    # Covariance Matrix from pickle\n",
    "    corr_matrix_file = open(corr_matrix_file_path, 'rb')\n",
    "    correlation_matrix = pickle.load(corr_matrix_file)\n",
    "    corr_matrix_file.close()\n",
    "\n",
    "    # X_Labels from pickle\n",
    "    x_labels_file = open(x_labels_file_path, 'rb')\n",
    "    x_labels = pickle.load(x_labels_file)\n",
    "    x_labels_file.close()\n",
    "\n",
    "    return correlation_matrix, x_labels\n",
    "\n",
    "\n",
    "def corr_list_for_single_stock(ticker, end_date, recent_days):\n",
    "    x_labels = []\n",
    "\n",
    "    ticker_price_history = sptm_price_history[ticker].Close.pct_change().iloc[end_date - recent_days:end_date]\n",
    "\n",
    "    for tickers in sptm_price_history.keys():\n",
    "        x_labels.append(tickers)\n",
    "\n",
    "    correlation_matrix = {}\n",
    "\n",
    "    for l in range(0, len(x_labels)):\n",
    "        correlation_matrix[x_labels[l]] = ticker_price_history.corr(\n",
    "            sptm_price_history[x_labels[l]].Close.pct_change().iloc[end_date - recent_days:end_date])\n",
    "    correlation_matrix = dict(sorted(correlation_matrix.items(), key=operator.itemgetter(1), reverse=True))\n",
    "\n",
    "    return correlation_matrix\n"
   ],
   "metadata": {
    "collapsed": false,
    "pycharm": {
     "name": "#%%\n"
    }
   }
  },
  {
   "cell_type": "code",
   "execution_count": 77,
   "outputs": [],
   "source": [
    "def filter_substantially_similar_securities(ticker, series, additional_stocks=None):\n",
    "    \"\"\"Filters out the stocks you cannot buy because of a wash sale\n",
    "    :param series: The series of correlated stocks that should be filtered\n",
    "    :param ticker: Ticker to filter out securities for\n",
    "    :param additional_stocks: Any additional stocks you want to filter out (default = None)\n",
    "    \"\"\"\n",
    "    if additional_stocks is None:\n",
    "        additional_stocks = []\n",
    "\n",
    "    # Handles Google having both GOOG and GOOGL in the dataset\n",
    "    if ticker == \"GOOG\" or ticker:\n",
    "        additional_stocks.append(\"GOOG\")\n",
    "        additional_stocks.append(\"GOOGL\")\n",
    "\n",
    "    additional_stocks.append(ticker)\n",
    "\n",
    "    for remove_stock in additional_stocks:\n",
    "        series.pop(series.index(remove_stock))\n",
    "\n",
    "    return series\n",
    "\n",
    "\n",
    "def find_top_correlated_stocks(correlation_list, ticker, n):\n",
    "    \"\"\"Finds the top n stocks correlated with a given stock\n",
    "    :param correlation_list: The correlation list to get the top correlated stocks from\n",
    "    :param n: the number of correlated stocks to return\n",
    "    :param ticker: The ticker for which correlated stocks should be found\n",
    "    :returns: A list (sorted by most correlation) of correlated stocks\n",
    "    \"\"\"\n",
    "\n",
    "    filtered_correlations = filter_substantially_similar_securities(ticker, list(correlation_list.keys()))\n",
    "\n",
    "    return filtered_correlations[:n]"
   ],
   "metadata": {
    "collapsed": false,
    "pycharm": {
     "name": "#%%\n"
    }
   }
  },
  {
   "cell_type": "markdown",
   "source": [
    "### Principle Component Analysis"
   ],
   "metadata": {
    "collapsed": false,
    "pycharm": {
     "name": "#%% md\n"
    }
   }
  },
  {
   "cell_type": "code",
   "execution_count": 78,
   "outputs": [],
   "source": [
    "def get_price_histories_dataframe(stocks, target_stock, end_date, recent_days):\n",
    "    \"\"\"Compiles a DataFrame with the price histories of the specified stocks\n",
    "    :param target_stock: The stock for which the dataset should be created\n",
    "    :param stocks: The stocks to include in the DataFrame\n",
    "    :param end_date: The last date for which data should be used to get the price history\n",
    "    :param recent_days: How many days of price history should be fetched\n",
    "    :returns: (Features DataFrame, Target DataFrame)\"\"\"\n",
    "    d = {}\n",
    "    for correlated_stock in stocks:\n",
    "        d[correlated_stock] = sptm_price_history[correlated_stock].Close.values[end_date - recent_days:end_date]\n",
    "    target = pd.DataFrame(\n",
    "        {target_stock: sptm_price_history[target_stock].Close.values[end_date - recent_days:end_date]})\n",
    "    return pd.DataFrame(data=d), target\n",
    "\n",
    "\n",
    "def get_datasets(correlation_list, target_stock, n, end_date, recent_days):\n",
    "    \"\"\"Compiles the necessary datasets for PCA. One with the price history of the features, and one with the price history of the target\n",
    "    :param correlation_list: The correlation list to get the top correlated stocks from\n",
    "    :param target_stock: The stock for which the dataset should be created\n",
    "    :param n: the number of datasets to get\n",
    "    :param end_date: The last date for which data should be used to get the price history\n",
    "    :param recent_days: How many days of price history should be fetched\n",
    "    :returns: (x, y) where x and y are DataFrames\n",
    "    \"\"\"\n",
    "    corr_stocks = find_top_correlated_stocks(correlation_list, target_stock, n)\n",
    "    return get_price_histories_dataframe(corr_stocks, target_stock, end_date, recent_days)"
   ],
   "metadata": {
    "collapsed": false,
    "pycharm": {
     "name": "#%%\n"
    }
   }
  },
  {
   "cell_type": "code",
   "execution_count": 79,
   "outputs": [],
   "source": [
    "def predict_portfolio(pred_stock, n_components, n_days, end_date, n_stocks, sparse):\n",
    "    \"\"\"Constructs a portfolio using the given hyperparameters\n",
    "    :param pred_stock: The stock to predict\n",
    "    :param n_components: The number of principal components the model should use\n",
    "    :param n_days: The number of days of data the model should consider\n",
    "    :param end_date: The last date of data the model should use\n",
    "    :param n_stocks: The number of stocks to be used by principal component analysis\n",
    "    :param sparse: Whether PCA should be sparse or not\n",
    "    \"\"\"\n",
    "    correlation_list = corr_list_for_single_stock('AAPL', end_date, n_days)\n",
    "\n",
    "    # Get price history datasets\n",
    "    x, y = get_datasets(correlation_list, pred_stock, n_stocks, end_date, n_days)\n",
    "\n",
    "    # Standardize the features\n",
    "    X = StandardScaler().fit_transform(x)\n",
    "\n",
    "    # Do the PCA\n",
    "    if sparse:\n",
    "        pca = SparsePCA(n_components=n_components)\n",
    "    else:\n",
    "        pca = PCA(n_components=n_components)\n",
    "\n",
    "    principal_components = pca.fit_transform(X)\n",
    "    principal_df = pd.DataFrame(data=principal_components, columns=[\"PC \" + str(i) for i in range(0, n_components)])\n",
    "\n",
    "    # Linear Regression of principal components\n",
    "    model = sm.OLS(principal_df, y).fit()\n",
    "\n",
    "    loadings = pd.DataFrame(pca.components_.T, index=x.columns)\n",
    "    loadings_dict = {stock: [] for stock in loadings[0].index.values}\n",
    "\n",
    "    for c_stock in loadings[0].index.values:\n",
    "        for pc in range(0, n_components):\n",
    "            loadings_dict[c_stock].append(loadings[pc][c_stock])\n",
    "\n",
    "    synthetic_position = {}\n",
    "    for c_stock in loadings_dict.keys():\n",
    "        quantity = 0\n",
    "        for pc in range(0, n_components):\n",
    "            quantity += model.params[pc][pred_stock] * loadings_dict[c_stock][pc]\n",
    "        synthetic_position[c_stock] = quantity\n",
    "\n",
    "    return synthetic_position"
   ],
   "metadata": {
    "collapsed": false,
    "pycharm": {
     "name": "#%%\n"
    }
   }
  },
  {
   "cell_type": "code",
   "execution_count": 80,
   "outputs": [],
   "source": [
    "def hybrid_learning_replace(ticker) -> {}:\n",
    "    \"\"\"Determines which stocks to buy to emulate the performance of another\n",
    "    :param ticker: The stock for which a synthetic position should be calculated\n",
    "    :returns: Dictionary of replacement tickers and their quantities\n",
    "    \"\"\"\n",
    "    print(ticker)\n",
    "    return {}\n",
    "    #TODO"
   ],
   "metadata": {
    "collapsed": false,
    "pycharm": {
     "name": "#%%\n"
    }
   }
  },
  {
   "cell_type": "markdown",
   "source": [
    "# Stock Market Backtester"
   ],
   "metadata": {
    "collapsed": false,
    "pycharm": {
     "name": "#%% md\n"
    }
   }
  },
  {
   "cell_type": "markdown",
   "source": [
    "If you want to run this simulator with different stocks and/or generate a new starting portfolio, do the following:\n",
    "1. Create a CSV file with the format: Ticker, Quantity\n",
    "2. Run **csvToComp.py** to generate text you can paste in as the *snp_composition* variable in **compToPickle.py**\n",
    "3. Run **compToPickle.py**\n",
    "4. Adjust the date range in **yfToPickle.py**\n",
    "5. Run **yfToPickle.py**, which will take a while, since it is downloading all of the price histories from Yahoo Finance"
   ],
   "metadata": {
    "collapsed": false,
    "pycharm": {
     "name": "#%% md\n"
    }
   }
  },
  {
   "cell_type": "code",
   "execution_count": 81,
   "outputs": [],
   "source": [
    "import pandas as pd\n",
    "# import pyfolio as pf  #install using  pip3 install git+https://github.com/quantopian/pyfolio\n",
    "from enum import Enum\n",
    "import warnings\n",
    "import pickle\n",
    "import matplotlib.pyplot as plt\n",
    "import matplotlib.dates as mdates\n",
    "% matplotlib inline\n",
    "\n",
    "snp_comp_file_path = \"pickles/snp_composition.obj\"\n",
    "snp_price_file_path = \"pickles/snp_price.obj\""
   ],
   "metadata": {
    "collapsed": false,
    "pycharm": {
     "name": "#%%\n"
    }
   }
  },
  {
   "cell_type": "code",
   "execution_count": 82,
   "outputs": [],
   "source": [
    "# Composition data from pickle\n",
    "snp_comp_file = open(snp_comp_file_path, 'rb')\n",
    "snp_composition = pickle.load(snp_comp_file)\n",
    "snp_comp_file.close()\n",
    "\n",
    "# Price history downloaded from Yahoo Finance and stored in pickle\n",
    "snp_price_file = open(sptm_price_file_path, 'rb')\n",
    "price_history = pickle.load(snp_price_file)\n",
    "snp_price_file.close()\n",
    "\n",
    "all_tickers = snp_composition.keys()\n",
    "\n",
    "# Gets a list of all valid trading dates\n",
    "all_dates = price_history[list(all_tickers)[0]].axes[0].values\n",
    "dates = pd.DatetimeIndex(data=all_dates)"
   ],
   "metadata": {
    "collapsed": false,
    "pycharm": {
     "name": "#%%\n"
    }
   }
  },
  {
   "cell_type": "code",
   "execution_count": 83,
   "outputs": [],
   "source": [
    "def get_stock_price(ticker, day, time) -> float:\n",
    "    \"\"\"Retrieves the closing price of a stock on a given date\n",
    "    :param ticker: stock for which to retrieve the value\n",
    "    :param day: date on which to retrieve the value\n",
    "    :param time of day to calculate the value, either Time.OPEN or Time.CLOSE\n",
    "    \"\"\"\n",
    "    if time == Time.OPEN:\n",
    "        return round(price_history[ticker].Open[day], 2)\n",
    "    elif time == Time.CLOSE:\n",
    "        return round(price_history[ticker].Close[day], 2)\n",
    "\n",
    "\n",
    "class Time(Enum):\n",
    "    OPEN = 0\n",
    "    CLOSE = 1\n",
    "\n",
    "\n",
    "class Stock:\n",
    "    def __init__(self, ticker, cur_date, q=0):\n",
    "        \"\"\"Creates an object representing an owned stock\n",
    "        :param ticker: The stock's ticker symbol\n",
    "        :param q: How much of this stock is owned (this should only be used when constructing initial stock portfolios, as it essentially creates stock for free)\n",
    "        \"\"\"\n",
    "        self.ticker = ticker\n",
    "        self.quantity = q\n",
    "        self.avg_cost = get_stock_price(self.ticker, cur_date, Time.CLOSE)\n",
    "\n",
    "    def buy(self, quantity, day_price):\n",
    "        \"\"\"Simulates a portfolio acquiring new stock\n",
    "        :param quantity: The amount of new stock to acquire\n",
    "        :param day_price: The price of the stock on the day of acquisition\n",
    "        \"\"\"\n",
    "        previously_owned = self.quantity\n",
    "        self.quantity += quantity\n",
    "        self.avg_cost += (previously_owned * self.avg_cost + quantity * day_price) / self.quantity\n",
    "\n",
    "    def sell(self, q, day_price):\n",
    "        \"\"\"Simulates a portfolio selling a stock\n",
    "        :param q: The amount of new stock to sell\n",
    "        :param day_price: The price of the stock on the day of acquisition\n",
    "        \"\"\"\n",
    "        previously_owned = self.quantity\n",
    "        self.quantity -= q\n",
    "        self.avg_cost -= (previously_owned * self.avg_cost - q * day_price) / self.quantity\n",
    "\n",
    "    def sell_all(self):\n",
    "        \"\"\"Simulates selling all of a stock\n",
    "        \"\"\"\n",
    "        self.quantity = 0\n",
    "        self.avg_cost = 0\n",
    "\n",
    "    def get_pct_change(self, change_date):\n",
    "        \"\"\"Gets the percent change of the stock based on the average cost\n",
    "        \"\"\"\n",
    "        change = self.get_change(change_date)\n",
    "        return 100 * (change / self.avg_cost)\n",
    "\n",
    "    def get_change(self, change_date) -> float:\n",
    "        \"\"\"Gets the difference between the stock's average purchase price and its current price\n",
    "        :returns: float\n",
    "        \"\"\"\n",
    "        current_price = get_stock_price(self.ticker, change_date, Time.CLOSE)\n",
    "        return current_price - self.avg_cost\n",
    "\n",
    "\n",
    "class Portfolio:\n",
    "    def __init__(self, name, sim_start_date, starting_cash_balance: float = 1000000, starting_stocks=None,\n",
    "                 baseline=False, synthetic=False):\n",
    "        \"\"\"Creates a new portfolio\n",
    "        :param starting_cash_balance: The amount of cash the portfolio should start with (default 100,000.0)\n",
    "        :param starting_stocks: A dictionary containing the stocks the portfolio should begin with {'Ticker': Stock Object} (default is no starting stocks)\n",
    "        \"\"\"\n",
    "        self.name = name\n",
    "        if starting_stocks is None:\n",
    "            starting_stocks = {}\n",
    "        self.stocks = starting_stocks\n",
    "        self.cash_balance = starting_cash_balance\n",
    "        self.value = 0\n",
    "        self.calculate_value(Time.CLOSE, sim_start_date)\n",
    "        self.price_history = {}\n",
    "        self.closing_prices = []\n",
    "        self.returns = None\n",
    "        self.wash_sale_list = {}\n",
    "        self.baseline = baseline\n",
    "        self.synthetic = synthetic\n",
    "        self.diff = []\n",
    "\n",
    "    def calculate_value(self, time, calc_date):\n",
    "        \"\"\"Calculates the value of the portfolio based on the close of the global current date\n",
    "        :param calc_date: The date on whcih to calculate the value\n",
    "        :param time of day to calculate the value, either Time.OPEN or Time.CLOSE\n",
    "        \"\"\"\n",
    "        self.calculate_value_date(calc_date, time)\n",
    "\n",
    "    def calculate_value_date(self, c_day, time=Time.CLOSE):\n",
    "        \"\"\"Calculates the value of the portfolio based on a specified date\n",
    "        :param c_day: the date on which the portfolio's value should be calculated\n",
    "        :param time of day to calculate the value, either Time.OPEN or (default) Time.CLOSE\n",
    "        \"\"\"\n",
    "\n",
    "        self.value = self.cash_balance\n",
    "        for stock in self.stocks.keys():\n",
    "            self.value += get_stock_price(stock, c_day, time) * self.stocks[stock].quantity\n",
    "\n",
    "        return self.value\n",
    "\n",
    "    def update_wash_sale_list(self):\n",
    "        \"\"\"Increments the counter for every item in the wash sale list and removes an item if the counter is >30\n",
    "        \"\"\"\n",
    "        remove_from_list = []\n",
    "        for wash_stock in self.wash_sale_list.keys():\n",
    "            self.wash_sale_list[wash_stock] += 1\n",
    "            if self.wash_sale_list[wash_stock] > 30:\n",
    "                remove_from_list.append(wash_stock)\n",
    "\n",
    "        for to_remove in remove_from_list:\n",
    "            self.wash_sale_list.pop(to_remove)\n",
    "\n",
    "    def begin_day(self, date_to_begin):\n",
    "        \"\"\"Calculates the starting value of the day and updates the wash sale list\n",
    "        \"\"\"\n",
    "        self.calculate_value(Time.CLOSE, date_to_begin)\n",
    "        self.update_wash_sale_list()\n",
    "\n",
    "    def end_day(self, date_to_record):\n",
    "        \"\"\"\"Calculates the day's closing value and adds it to a list\n",
    "        :param date_to_record: The date associated with the ending day\n",
    "        \"\"\"\n",
    "        self.calculate_value(Time.CLOSE, date_to_record)\n",
    "        self.price_history[date_to_record] = self.value\n",
    "        self.closing_prices.append(self.value)\n",
    "\n",
    "    def end_simulation(self, start_date_index, end_date_index):\n",
    "        \"\"\"Creates a Pandas Series of percent change of closing values and returns it\n",
    "        :param start_date_index: The index of the day that the simulation started\n",
    "        :param end_date_index: The index of the day that the simulation ended\n",
    "        \"\"\"\n",
    "        self.returns = pd.Series(data=self.closing_prices, index=dates[start_date_index:end_date_index]).pct_change()\n",
    "        return self.returns\n",
    "\n",
    "    def does_own_stock(self, ticker) -> bool:\n",
    "        \"\"\"Reports whether this portfolio contains a given stock\n",
    "        :param ticker: The stock to search for\n",
    "        \"\"\"\n",
    "        return ticker in self.stocks.keys()\n",
    "\n",
    "    def buy_stock(self, ticker, buy_date, quantity_to_buy):\n",
    "        \"\"\"Buys stock using cash balance if possible\n",
    "        :param buy_date: The date on which to buy the stocks\n",
    "        :param ticker: The stock to purchase\n",
    "        :param quantity_to_buy: The quantity of the stock to purchase (can be a float)\n",
    "        \"\"\"\n",
    "        stock_price = get_stock_price(ticker, buy_date, Time.CLOSE)\n",
    "        trade_basis = stock_price * quantity_to_buy  #TODO can add fees here\n",
    "\n",
    "        # Exit if we cannot complete the trade\n",
    "        if trade_basis > self.cash_balance:\n",
    "            warnings.warn(\"Not enough cash to execute trade: buy \" + str(quantity_to_buy) + \" \" + ticker)\n",
    "            return\n",
    "\n",
    "        if ticker in self.wash_sale_list:\n",
    "            warnings.warn(\"Cannot buy \" + ticker + \": wash sale violation\")\n",
    "            return\n",
    "\n",
    "        # If we do not currently own the stock, create an entry\n",
    "        if ticker not in self.stocks.keys():\n",
    "            self.stocks[ticker] = Stock(ticker, buy_date)\n",
    "\n",
    "        # Execute the trade\n",
    "        self.stocks[ticker].buy(quantity_to_buy, stock_price)\n",
    "        self.cash_balance -= trade_basis\n",
    "\n",
    "    def sell_stock(self, ticker, sell_date, sell_quantity=0, sell_all=False):\n",
    "        \"\"\"Sells stock and adds to cash balance\n",
    "        :param sell_date: The date on which to sell the stocks\n",
    "        :param ticker: The stock to sell\n",
    "        :param sell_quantity: The quantity of the stock to sell (can be a float)\n",
    "        :param sell_all: Optional parameter to sell all stock\n",
    "        \"\"\"\n",
    "        stock_price = get_stock_price(ticker, sell_date, Time.CLOSE)\n",
    "        # Ensure we have enough stock to sell\n",
    "        quantity_owned = self.stocks[ticker].sell_quantity\n",
    "        if sell_quantity > quantity_owned:\n",
    "            return\n",
    "\n",
    "        if sell_all or sell_quantity == quantity_owned:\n",
    "            self.stocks[ticker].sell_all()\n",
    "            self.cash_balance += quantity_owned * stock_price\n",
    "            self.stocks.pop(ticker)\n",
    "\n",
    "            # Update the wash sale list\n",
    "            self.wash_sale_list[ticker] = 0\n",
    "            return\n",
    "\n",
    "        # Do the trade\n",
    "        self.stocks[ticker].sell()\n",
    "        self.cash_balance += sell_quantity * stock_price  #TODO maybe things should be added to the wash sale list even if we just sell partial (but in theory we are always doing sellall)\n",
    "\n",
    "    def identify_losers(self, loser_date):\n",
    "        \"\"\"Identifies stocks that have dropped in value more than 5% since they were bought\n",
    "        :returns: List of all stocks that have dropped more than 5%\n",
    "        \"\"\"\n",
    "        identified_losers = []\n",
    "        for owned_stock in self.stocks.keys():\n",
    "            if self.stocks[owned_stock].get_change(loser_date) <= -1 * (0.05 * self.value):\n",
    "                identified_losers.append(owned_stock)\n",
    "        return identified_losers\n",
    "\n",
    "    def calculate_diff(self, baseline):\n",
    "        for m in range(0, len(self.closing_prices)):\n",
    "            self.diff.append(self.closing_prices[m] - baseline[m])\n",
    "\n",
    "\n",
    "def get_normalized_portfolios(p, s_s_date):\n",
    "    \"\"\"Accepts portfolios and returns new portfolios with the same value on the start date\n",
    "    Limitations: All portfolios but the synthetic one can only contain one stock\n",
    "    :param p: The portfolios to normalize (the baseline must be in position 1 and the synthetic portfolio must be marked)\n",
    "    :param s_s_date: The start date on which to normalize the portfolios\n",
    "    \"\"\"\n",
    "    synth = None\n",
    "    for port in p:\n",
    "        if port.synthetic:\n",
    "            synth = port\n",
    "\n",
    "    return_ports = []\n",
    "\n",
    "    for port in p:\n",
    "        if port == synth:\n",
    "            continue\n",
    "\n",
    "        synth_value = synth.calculate_value_date(s_s_date)\n",
    "        port_value = port.calculate_value_date(s_s_date)\n",
    "        ratio = synth_value / port_value\n",
    "\n",
    "        new_stock_ticker = list(port.stocks.keys())[0]\n",
    "\n",
    "        is_baseline = port.baseline\n",
    "\n",
    "        new_port = Portfolio(port.name, s_s_date, port.cash_balance,\n",
    "                             {new_stock_ticker: Stock(new_stock_ticker, s_s_date, ratio)}, baseline=is_baseline)\n",
    "\n",
    "        return_ports.append(new_port)\n",
    "\n",
    "    return_ports.append(synth)\n",
    "    return return_ports\n",
    "\n",
    "\n",
    "def plot_portfolio(p, sim_end_date, sim_start_date):\n",
    "    plt.gca().xaxis.set_major_formatter(mdates.DateFormatter('%Y-%m-%d'))\n",
    "    plt.gca().xaxis.set_major_locator(mdates.DayLocator(interval=round((sim_end_date - sim_start_date) / 10)))\n",
    "\n",
    "    for port in p:\n",
    "        days = []\n",
    "        y_price = []\n",
    "        for price in port.price_history:\n",
    "            days.append(price)\n",
    "            y_price.append(port.price_history[price])\n",
    "        plt.plot(days, y_price, label=port.name)\n",
    "\n",
    "    plt.gcf().autofmt_xdate()\n",
    "    plt.rcParams[\"figure.figsize\"] = [16, 9]\n",
    "    plt.legend(loc='best')\n",
    "    plt.show()\n",
    "\n",
    "\n",
    "def plot_differences(p, sim_end_date, sim_start_date):\n",
    "    plt.gca().xaxis.set_major_formatter(mdates.DateFormatter('%Y-%m-%d'))\n",
    "    plt.gca().xaxis.set_major_locator(mdates.DayLocator(interval=round((sim_end_date - sim_start_date) / 10)))\n",
    "\n",
    "    for port in p:\n",
    "        days = []\n",
    "        for price in port.price_history:\n",
    "            days.append(price)\n",
    "        plt.plot(days, port.diff, label=port.name)\n",
    "    plt.gcf().autofmt_xdate()\n",
    "    plt.rcParams[\"figure.figsize\"] = [16, 9]\n",
    "    plt.legend(loc='best')\n",
    "    plt.show()\n",
    "\n",
    "\n",
    "def get_correlations(portfolios):\n",
    "    for p in portfolios:\n",
    "        if p.baseline:\n",
    "            for po in portfolios:\n",
    "                print(po.name + \" correlation with \" + p.name + \": \" + str(\n",
    "                    po.returns.corr(p.returns))) if not po.baseline else \"\"\n",
    "            return\n",
    "\n",
    "\n",
    "def generate_end_report(portfolios, sim_start_date, sim_end_date):\n",
    "    plot_portfolio(portfolios, sim_end_date, sim_start_date)\n",
    "    for p in portfolios:\n",
    "        p.calculate_diff(portfolios[0].closing_prices)\n",
    "    plot_differences(portfolios, sim_end_date, sim_start_date)\n",
    "    get_correlations(portfolios)"
   ],
   "metadata": {
    "collapsed": false,
    "pycharm": {
     "name": "#%%\n"
    }
   }
  },
  {
   "cell_type": "code",
   "execution_count": 89,
   "outputs": [],
   "source": [
    "def model_output_to_portfolio(model_output, output_date):\n",
    "    p = {}\n",
    "    for a_stock in model_output.keys():\n",
    "        p[a_stock] = Stock(a_stock, output_date, model_output[a_stock])\n",
    "    return p\n",
    "\n",
    "\n",
    "def run_simulation(sim_start_date, sim_end_date, portfolios):\n",
    "    # Run the simulation\n",
    "    for date in range(sim_start_date, sim_end_date):\n",
    "        # Allow the portfolio to perform start of day updates\n",
    "        for sim_portfolio in portfolios:\n",
    "            sim_portfolio.begin_day(date)\n",
    "\n",
    "            # Determine which stocks should be tax loss harvested\n",
    "            losers = sim_portfolio.identify_losers(date)\n",
    "\n",
    "            # for losing_stock in losers:\n",
    "            #     # Get dictionary of replacement stocks {'Ticker': Quantity}\n",
    "            #     replacement_stocks = hybrid_learning_replace(losing_stock)\n",
    "            #\n",
    "            #     # Sell the losing stock\n",
    "            #     portfolio.sell_stock(losing_stock, sell_all=True)\n",
    "            #\n",
    "            #     # Buy the replacement stocks\n",
    "            #     for buy_stock in replacement_stocks.keys():\n",
    "            #         portfolio.buy_stock(buy_stock, replacement_stocks[buy_stock])\n",
    "\n",
    "            # Allow the portfolio to perform end-of-day updates\n",
    "            sim_portfolio.end_day(all_dates[date])\n",
    "\n",
    "    returns = []\n",
    "\n",
    "    # Inform the portfolio that the simulation has ended\n",
    "    for portfolio in portfolios:\n",
    "        returns.append(portfolio.end_simulation(sim_start_date, sim_end_date))\n",
    "\n",
    "    generate_end_report(portfolios, sim_start_date, sim_end_date)\n",
    "\n",
    "\n",
    "#TODO need to specify separate training and testing dates\n",
    "def simulate_stock(stock, sim_start_date, sim_end_date, tr_end_date, train_num_days, num_principal_components,\n",
    "                   num_pred_stocks, sparse):\n",
    "    # Find correlated stock during training period\n",
    "    correlated_stock_ticker = list(corr_list_for_single_stock(stock, tr_end_date, train_num_days).keys())[1]\n",
    "\n",
    "    # Find synthetic stock portfolio during training period\n",
    "    synth_stocks = model_output_to_portfolio(\n",
    "        predict_portfolio(stock, num_principal_components, train_num_days, tr_end_date, num_pred_stocks, sparse),\n",
    "        sim_start_date)\n",
    "\n",
    "    synth_stock_portfolio = Portfolio(\"Synthetic\", sim_start_date, 0, starting_stocks=synth_stocks, synthetic=True)\n",
    "    correlated_stock_portfolio = Portfolio(correlated_stock_ticker, sim_start_date, 0, starting_stocks={\n",
    "        correlated_stock_ticker: Stock(correlated_stock_ticker, sim_start_date, 1)})\n",
    "    baseline_stock_portfolio = Portfolio(stock, sim_start_date, 0,\n",
    "                                         starting_stocks={stock: Stock(stock, sim_start_date, 1)}, baseline=True)\n",
    "\n",
    "    # ensure that the real stock is first in the portfolio\n",
    "    portfolios = get_normalized_portfolios(\n",
    "        [baseline_stock_portfolio, synth_stock_portfolio, correlated_stock_portfolio], sim_start_date)\n",
    "\n",
    "    run_simulation(sim_start_date, sim_end_date, portfolios)"
   ],
   "metadata": {
    "collapsed": false,
    "pycharm": {
     "name": "#%%\n"
    }
   }
  },
  {
   "cell_type": "code",
   "execution_count": 90,
   "outputs": [
    {
     "data": {
      "text/plain": "<Figure size 1152x648 with 1 Axes>",
      "image/png": "[encoded data removed]"
     },
     "metadata": {
      "needs_background": "light"
     },
     "output_type": "display_data"
    },
    {
     "data": {
      "text/plain": "<Figure size 1152x648 with 1 Axes>",
      "image/png": "[encoded data removed]"
     },
     "metadata": {
      "needs_background": "light"
     },
     "output_type": "display_data"
    },
    {
     "name": "stdout",
     "output_type": "stream",
     "text": [
      "MSFT correlation with AAPL: 0.6321781018561089\n",
      "Synthetic correlation with AAPL: 0.6797614585249494\n"
     ]
    }
   ],
   "source": [
    "# def simulate_stock(stock: {__eq__},\n",
    "#                    sim_start_date: Any,\n",
    "#                    sim_end_date: {__sub__},\n",
    "#                    tr_end_date: {__sub__},\n",
    "#                    train_num_days: Any,\n",
    "#                    num_principal_components: Any,\n",
    "#                    num_pred_stocks: Any,\n",
    "#                    sparse: Any) -> None\n",
    "simulate_stock('AAPL', test_start_date, test_start_date + 20, train_end_date, 120, 2, 10, False)"
   ],
   "metadata": {
    "collapsed": false,
    "pycharm": {
     "name": "#%%\n"
    }
   }
  },
  {
   "cell_type": "code",
   "execution_count": 86,
   "outputs": [],
   "source": [
    "#pf.create_returns_tear_sheet(returns)"
   ],
   "metadata": {
    "collapsed": false,
    "pycharm": {
     "name": "#%%\n"
    }
   }
  }
 ],
 "metadata": {
  "kernelspec": {
   "display_name": "Python 3 (ipykernel)",
   "language": "python",
   "name": "python3"
  },
  "language_info": {
   "codemirror_mode": {
    "name": "ipython",
    "version": 3
   },
   "file_extension": ".py",
   "mimetype": "text/x-python",
   "name": "python",
   "nbconvert_exporter": "python",
   "pygments_lexer": "ipython3",
   "version": "3.9.12"
  }
 },
 "nbformat": 4,
 "nbformat_minor": 1
}